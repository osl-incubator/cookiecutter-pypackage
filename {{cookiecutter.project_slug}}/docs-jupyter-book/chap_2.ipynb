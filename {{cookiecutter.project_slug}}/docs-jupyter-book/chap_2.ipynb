{
 "cells": [
  {
   "cell_type": "markdown",
   "metadata": {},
   "source": [
    "This is a Jupyter Notebook sample. See [here](https://jupyter-notebook.readthedocs.io/en/stable/notebook.html) for more details."
   ]
  }
 ],
 "metadata": {
  "language_info": {
   "name": "python"
  },
  "orig_nbformat": 4
 },
 "nbformat": 4,
 "nbformat_minor": 2
}
